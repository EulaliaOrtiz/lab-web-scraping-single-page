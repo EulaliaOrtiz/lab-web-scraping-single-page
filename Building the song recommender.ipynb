{
 "cells": [
  {
   "cell_type": "code",
   "execution_count": 72,
   "id": "eb47c377",
   "metadata": {},
   "outputs": [],
   "source": [
    "import numpy as np\n",
    "import pandas as pd\n",
    "import matplotlib.pyplot as plt\n",
    "import seaborn as sns\n",
    "from scipy.stats import norm\n",
    "from scipy import stats\n",
    "from sklearn.neighbors import KNeighborsRegressor\n",
    "import math\n",
    "import datetime\n",
    "from sklearn import linear_model \n",
    "from sklearn.linear_model import LogisticRegression\n",
    "from sklearn.neural_network import MLPRegressor\n",
    "from sklearn.preprocessing import PowerTransformer\n",
    "from sklearn.metrics import mean_absolute_percentage_error\n",
    "from sklearn.preprocessing import MinMaxScaler, StandardScaler\n",
    "import requests\n",
    "import spotipy\n",
    "import json\n",
    "from spotipy.oauth2 import SpotifyClientCredentials\n",
    "from config import *"
   ]
  },
  {
   "cell_type": "code",
   "execution_count": 2,
   "id": "a5eb714e",
   "metadata": {},
   "outputs": [],
   "source": [
    "#!pip install spotipy"
   ]
  },
  {
   "cell_type": "code",
   "execution_count": 73,
   "id": "a286e288",
   "metadata": {},
   "outputs": [],
   "source": [
    "sp = spotipy.Spotify(auth_manager=SpotifyClientCredentials(client_id= client_id,\n",
    "                                                           client_secret= client_secret))"
   ]
  },
  {
   "cell_type": "code",
   "execution_count": 74,
   "id": "2031e02c",
   "metadata": {},
   "outputs": [],
   "source": [
    "X = pd.read_csv('X.csv')"
   ]
  },
  {
   "cell_type": "code",
   "execution_count": 75,
   "id": "df8aed92",
   "metadata": {},
   "outputs": [],
   "source": [
    "%%writefile -a functions.py\n",
    "\n",
    "def isin_hot(df, title, artist):\n",
    "    \n",
    "    if ( (df['dataset']== \"H\") and (df['title'] == title) and (df['artist']==artist) ):\n",
    "        return True\n",
    "    else: \n",
    "        return False\n",
    "    \n",
    "def get_user_song():\n",
    "    \n",
    "    title = input(\"Please, tell me the title of a song you like: \" )\n",
    "    artist = input(\"Please tell me the artist: \")\n",
    "    \n",
    "    return title, artist"
   ]
  },
  {
   "cell_type": "code",
   "execution_count": 79,
   "id": "195680b0",
   "metadata": {},
   "outputs": [],
   "source": [
    "%%writefile -a functions.py\n",
    "\n",
    "def search_song_id_user(df):\n",
    "    \n",
    "    song_ids = []\n",
    "    \n",
    "    #for number in range(0,len(df)):\n",
    "        \n",
    "    for index in list(range(len(df))):\n",
    "            artist = df.iloc[index,1] \n",
    "            title = df.iloc[index,0]\n",
    "            try:\n",
    "                results = sp.search(q=\"track:\"+title+\" artist:\"+artist,limit=1)\n",
    "                song_id = results['tracks']['items'][0]['id']\n",
    "                song_ids.append(song_id)\n",
    "            except:\n",
    "                print(\"We cannot guess with this song!\".format(song_id))         \n",
    "                song_ids.append(np.nan)\n",
    "                \n",
    "    song_ids = pd.DataFrame(song_ids)\n",
    "    return song_ids"
   ]
  },
  {
   "cell_type": "code",
   "execution_count": 80,
   "id": "c2b734db",
   "metadata": {},
   "outputs": [
    {
     "name": "stdout",
     "output_type": "stream",
     "text": [
      "             title         artist\n",
      "0        as it was   harry styles\n",
      "1  as time goes by  frank sinatra\n"
     ]
    }
   ],
   "source": [
    "df ={'title': ['as it was', 'as time goes by'],\n",
    "       'artist':['harry styles', 'frank sinatra']}\n",
    "df=pd.DataFrame(df)\n",
    "print(df)"
   ]
  },
  {
   "cell_type": "code",
   "execution_count": 81,
   "id": "f7ce74c9",
   "metadata": {},
   "outputs": [
    {
     "data": {
      "text/html": [
       "<div>\n",
       "<style scoped>\n",
       "    .dataframe tbody tr th:only-of-type {\n",
       "        vertical-align: middle;\n",
       "    }\n",
       "\n",
       "    .dataframe tbody tr th {\n",
       "        vertical-align: top;\n",
       "    }\n",
       "\n",
       "    .dataframe thead th {\n",
       "        text-align: right;\n",
       "    }\n",
       "</style>\n",
       "<table border=\"1\" class=\"dataframe\">\n",
       "  <thead>\n",
       "    <tr style=\"text-align: right;\">\n",
       "      <th></th>\n",
       "      <th>0</th>\n",
       "    </tr>\n",
       "  </thead>\n",
       "  <tbody>\n",
       "    <tr>\n",
       "      <th>0</th>\n",
       "      <td>4LRPiXqCikLlN15c3yImP7</td>\n",
       "    </tr>\n",
       "    <tr>\n",
       "      <th>1</th>\n",
       "      <td>1PhQVR6Bxe2iQoIcjflemQ</td>\n",
       "    </tr>\n",
       "  </tbody>\n",
       "</table>\n",
       "</div>"
      ],
      "text/plain": [
       "                        0\n",
       "0  4LRPiXqCikLlN15c3yImP7\n",
       "1  1PhQVR6Bxe2iQoIcjflemQ"
      ]
     },
     "execution_count": 81,
     "metadata": {},
     "output_type": "execute_result"
    }
   ],
   "source": [
    "search_song_id_user(df)"
   ]
  },
  {
   "cell_type": "code",
   "execution_count": null,
   "id": "08a744c6",
   "metadata": {},
   "outputs": [],
   "source": [
    "def get_audio_features_user(df):\n",
    "    song_features = []\n",
    "    \n",
    "    for index in list(range(len(df))):\n",
    "        song_id = df.iloc[index,0]\n",
    "        try:\n",
    "            my_dict = sp.audio_features(song_id)[0]\n",
    "            song_features.append(my_dict)\n",
    "                \n",
    "        except:\n",
    "            print(\"We cannot guess with this song!\".format(song_id))\n",
    "            my_new_dict = {}\n",
    "            song_features.append(my_new_dict)\n",
    "        \n",
    "     \n",
    "    song_features = pd.DataFrame(song_features)\n",
    "    return song_features"
   ]
  },
  {
   "cell_type": "code",
   "execution_count": 12,
   "id": "2739e8d4",
   "metadata": {
    "scrolled": true
   },
   "outputs": [
    {
     "ename": "SyntaxError",
     "evalue": "invalid syntax (2066806523.py, line 48)",
     "output_type": "error",
     "traceback": [
      "\u001b[1;36m  Input \u001b[1;32mIn [12]\u001b[1;36m\u001b[0m\n\u001b[1;33m    else:\u001b[0m\n\u001b[1;37m    ^\u001b[0m\n\u001b[1;31mSyntaxError\u001b[0m\u001b[1;31m:\u001b[0m invalid syntax\n"
     ]
    }
   ],
   "source": [
    "features_clustering = ['danceability', 'energy', 'key', 'loudness', 'mode', 'speechiness', 'acousticness', 'instrumentalness', 'liveness', 'valence', 'tempo', 'duration_ms','time_signature']\n",
    "\n",
    "user_song_id = []\n",
    "\n",
    "answer = input(\"Do you want me to recommend you a song? [1->Yes, 2->No] \")\n",
    "print()\n",
    "\n",
    "while answer == '1':\n",
    "   \n",
    "    title, artist = get_user_song()\n",
    "    user_dict = {'title': title, 'artist': artist}\n",
    "    user_preferences = pd.DataFrame([user_dict])\n",
    "    user_song_id = search_song_id_user(user_preferences)\n",
    " \n",
    "    #while ( math.isnan(user_song_id[0]) == True ):\n",
    "        #print(\"Sorry, this song was not found, could you please give me another one: ?\")\n",
    "        #title, artist = get_user_song()\n",
    "        #user_dict = {'title': title, 'artist': artist}\n",
    "        #user_preferences = pd.DataFrame(user_dict, index=user_dict.keys())\n",
    "        #user_song_id = search_song_id_user(user_preferences)\n",
    "            \n",
    "    \n",
    "    #if ( np.isna(user_song_id[0]) == True ):\n",
    "    #    print(\"Sorry, this song was not found, could you please give me another one: ?\")\n",
    "    #    title, artist = get_user_song()\n",
    "    #    user_dict = {'title': title, 'artist': artist}\n",
    "    #    user_preferences = pd.DataFrame(user_dict, index=user_dict.keys())\n",
    "    #    user_song_id = search_song_ids(user_preferences, stepsize=1)\n",
    "    \n",
    "    user_audio_features = get_audio_features(user_songs_id[0], stepsize=1) #song_features which is a dataframe\n",
    "    user_preferences = add_audio_features(user_preferences, user_audio__features) #this returns df_final\n",
    "    df_final = user_preferences[features_clustering]\n",
    "    scaler=load(\"scalers/scaler.pickle\")\n",
    "    df_final_scaled = scaler.transform(df_final)\n",
    "    best_model = load(\"models/kmeans_17.pickle\")\n",
    "    user_cluster = best_model.predict(df_final_scaled)[0]\n",
    "    \n",
    "    if ( isin_hot(df, title, artist) == True):\n",
    "        recommended_song = X[(X['dataset']== \"H\") & (X['cluster'] == user_cluster) & (X['song_id'] != user_song_id)].sample()\n",
    "        print(recomended_song)\n",
    "        \n",
    "    else:\n",
    "        recommended_song = X[(X['dataset']== \"NH\") & (X['cluster'] == user_cluster) & (X['song_id'] != user_song_id) ].sample()\n",
    "        print(recomended_song)\n",
    "        \n",
    "        answer = input(\"Do you want me to recommend you another song? [1->Yes, 2->No] \")\n",
    "        \n",
    "else:\n",
    "    print()\n",
    "    print(\"Come back soon!\")\n",
    "    \n"
   ]
  },
  {
   "cell_type": "code",
   "execution_count": 52,
   "id": "67402151",
   "metadata": {},
   "outputs": [
    {
     "name": "stdout",
     "output_type": "stream",
     "text": [
      "Do you want me to recommend you a song? [1->Yes, 2->No] 1\n",
      "\n",
      "Please, tell me the title of a song you like: as it was\n",
      "Please tell me the artist: harry styles\n"
     ]
    },
    {
     "ename": "IndexingError",
     "evalue": "Too many indexers",
     "output_type": "error",
     "traceback": [
      "\u001b[1;31m---------------------------------------------------------------------------\u001b[0m",
      "\u001b[1;31mIndexingError\u001b[0m                             Traceback (most recent call last)",
      "Input \u001b[1;32mIn [52]\u001b[0m, in \u001b[0;36m<cell line: 8>\u001b[1;34m()\u001b[0m\n\u001b[0;32m     12\u001b[0m user_preferences \u001b[38;5;241m=\u001b[39m pd\u001b[38;5;241m.\u001b[39mDataFrame\u001b[38;5;241m.\u001b[39mfrom_dict([user_dict])\n\u001b[0;32m     13\u001b[0m user_song_id \u001b[38;5;241m=\u001b[39m search_song_id_user(user_preferences)\n\u001b[1;32m---> 14\u001b[0m user_audio_features \u001b[38;5;241m=\u001b[39m \u001b[43mget_audio_features\u001b[49m\u001b[43m(\u001b[49m\u001b[43muser_song_id\u001b[49m\u001b[43m[\u001b[49m\u001b[38;5;241;43m0\u001b[39;49m\u001b[43m]\u001b[49m\u001b[43m)\u001b[49m \n\u001b[0;32m     15\u001b[0m user_preferences \u001b[38;5;241m=\u001b[39m add_audio_features(user_preferences, user_audio__features) \n\u001b[0;32m     16\u001b[0m df_final \u001b[38;5;241m=\u001b[39m user_preferences[features_clustering]\n",
      "Input \u001b[1;32mIn [50]\u001b[0m, in \u001b[0;36mget_audio_features\u001b[1;34m(df, stepsize)\u001b[0m\n\u001b[0;32m      5\u001b[0m \u001b[38;5;28;01mfor\u001b[39;00m number \u001b[38;5;129;01min\u001b[39;00m \u001b[38;5;28mrange\u001b[39m(\u001b[38;5;241m0\u001b[39m,\u001b[38;5;28mlen\u001b[39m(df)):\n\u001b[0;32m      7\u001b[0m     \u001b[38;5;28;01mfor\u001b[39;00m index \u001b[38;5;129;01min\u001b[39;00m \u001b[38;5;28mlist\u001b[39m(\u001b[38;5;28mrange\u001b[39m(\u001b[38;5;28mlen\u001b[39m(df))):\n\u001b[1;32m----> 8\u001b[0m         song_id \u001b[38;5;241m=\u001b[39m \u001b[43mdf\u001b[49m\u001b[38;5;241;43m.\u001b[39;49m\u001b[43miloc\u001b[49m\u001b[43m[\u001b[49m\u001b[43mindex\u001b[49m\u001b[43m,\u001b[49m\u001b[38;5;241;43m0\u001b[39;49m\u001b[43m]\u001b[49m\n\u001b[0;32m      9\u001b[0m         \u001b[38;5;28;01mtry\u001b[39;00m:\n\u001b[0;32m     10\u001b[0m             my_dict \u001b[38;5;241m=\u001b[39m sp\u001b[38;5;241m.\u001b[39maudio_features(song_id)[\u001b[38;5;241m0\u001b[39m]\n",
      "File \u001b[1;32m~\\anaconda3\\lib\\site-packages\\pandas\\core\\indexing.py:961\u001b[0m, in \u001b[0;36m_LocationIndexer.__getitem__\u001b[1;34m(self, key)\u001b[0m\n\u001b[0;32m    959\u001b[0m     \u001b[38;5;28;01mif\u001b[39;00m \u001b[38;5;28mself\u001b[39m\u001b[38;5;241m.\u001b[39m_is_scalar_access(key):\n\u001b[0;32m    960\u001b[0m         \u001b[38;5;28;01mreturn\u001b[39;00m \u001b[38;5;28mself\u001b[39m\u001b[38;5;241m.\u001b[39mobj\u001b[38;5;241m.\u001b[39m_get_value(\u001b[38;5;241m*\u001b[39mkey, takeable\u001b[38;5;241m=\u001b[39m\u001b[38;5;28mself\u001b[39m\u001b[38;5;241m.\u001b[39m_takeable)\n\u001b[1;32m--> 961\u001b[0m     \u001b[38;5;28;01mreturn\u001b[39;00m \u001b[38;5;28;43mself\u001b[39;49m\u001b[38;5;241;43m.\u001b[39;49m\u001b[43m_getitem_tuple\u001b[49m\u001b[43m(\u001b[49m\u001b[43mkey\u001b[49m\u001b[43m)\u001b[49m\n\u001b[0;32m    962\u001b[0m \u001b[38;5;28;01melse\u001b[39;00m:\n\u001b[0;32m    963\u001b[0m     \u001b[38;5;66;03m# we by definition only have the 0th axis\u001b[39;00m\n\u001b[0;32m    964\u001b[0m     axis \u001b[38;5;241m=\u001b[39m \u001b[38;5;28mself\u001b[39m\u001b[38;5;241m.\u001b[39maxis \u001b[38;5;129;01mor\u001b[39;00m \u001b[38;5;241m0\u001b[39m\n",
      "File \u001b[1;32m~\\anaconda3\\lib\\site-packages\\pandas\\core\\indexing.py:1458\u001b[0m, in \u001b[0;36m_iLocIndexer._getitem_tuple\u001b[1;34m(self, tup)\u001b[0m\n\u001b[0;32m   1456\u001b[0m \u001b[38;5;28;01mdef\u001b[39;00m \u001b[38;5;21m_getitem_tuple\u001b[39m(\u001b[38;5;28mself\u001b[39m, tup: \u001b[38;5;28mtuple\u001b[39m):\n\u001b[1;32m-> 1458\u001b[0m     tup \u001b[38;5;241m=\u001b[39m \u001b[38;5;28;43mself\u001b[39;49m\u001b[38;5;241;43m.\u001b[39;49m\u001b[43m_validate_tuple_indexer\u001b[49m\u001b[43m(\u001b[49m\u001b[43mtup\u001b[49m\u001b[43m)\u001b[49m\n\u001b[0;32m   1459\u001b[0m     \u001b[38;5;28;01mwith\u001b[39;00m suppress(IndexingError):\n\u001b[0;32m   1460\u001b[0m         \u001b[38;5;28;01mreturn\u001b[39;00m \u001b[38;5;28mself\u001b[39m\u001b[38;5;241m.\u001b[39m_getitem_lowerdim(tup)\n",
      "File \u001b[1;32m~\\anaconda3\\lib\\site-packages\\pandas\\core\\indexing.py:765\u001b[0m, in \u001b[0;36m_LocationIndexer._validate_tuple_indexer\u001b[1;34m(self, key)\u001b[0m\n\u001b[0;32m    761\u001b[0m \u001b[38;5;28;01mdef\u001b[39;00m \u001b[38;5;21m_validate_tuple_indexer\u001b[39m(\u001b[38;5;28mself\u001b[39m, key: \u001b[38;5;28mtuple\u001b[39m) \u001b[38;5;241m-\u001b[39m\u001b[38;5;241m>\u001b[39m \u001b[38;5;28mtuple\u001b[39m:\n\u001b[0;32m    762\u001b[0m     \u001b[38;5;124;03m\"\"\"\u001b[39;00m\n\u001b[0;32m    763\u001b[0m \u001b[38;5;124;03m    Check the key for valid keys across my indexer.\u001b[39;00m\n\u001b[0;32m    764\u001b[0m \u001b[38;5;124;03m    \"\"\"\u001b[39;00m\n\u001b[1;32m--> 765\u001b[0m     key \u001b[38;5;241m=\u001b[39m \u001b[38;5;28;43mself\u001b[39;49m\u001b[38;5;241;43m.\u001b[39;49m\u001b[43m_validate_key_length\u001b[49m\u001b[43m(\u001b[49m\u001b[43mkey\u001b[49m\u001b[43m)\u001b[49m\n\u001b[0;32m    766\u001b[0m     key \u001b[38;5;241m=\u001b[39m \u001b[38;5;28mself\u001b[39m\u001b[38;5;241m.\u001b[39m_expand_ellipsis(key)\n\u001b[0;32m    767\u001b[0m     \u001b[38;5;28;01mfor\u001b[39;00m i, k \u001b[38;5;129;01min\u001b[39;00m \u001b[38;5;28menumerate\u001b[39m(key):\n",
      "File \u001b[1;32m~\\anaconda3\\lib\\site-packages\\pandas\\core\\indexing.py:812\u001b[0m, in \u001b[0;36m_LocationIndexer._validate_key_length\u001b[1;34m(self, key)\u001b[0m\n\u001b[0;32m    810\u001b[0m             \u001b[38;5;28;01mraise\u001b[39;00m IndexingError(_one_ellipsis_message)\n\u001b[0;32m    811\u001b[0m         \u001b[38;5;28;01mreturn\u001b[39;00m \u001b[38;5;28mself\u001b[39m\u001b[38;5;241m.\u001b[39m_validate_key_length(key)\n\u001b[1;32m--> 812\u001b[0m     \u001b[38;5;28;01mraise\u001b[39;00m IndexingError(\u001b[38;5;124m\"\u001b[39m\u001b[38;5;124mToo many indexers\u001b[39m\u001b[38;5;124m\"\u001b[39m)\n\u001b[0;32m    813\u001b[0m \u001b[38;5;28;01mreturn\u001b[39;00m key\n",
      "\u001b[1;31mIndexingError\u001b[0m: Too many indexers"
     ]
    }
   ],
   "source": [
    "features_clustering = ['danceability', 'energy', 'key', 'loudness', 'mode', 'speechiness', 'acousticness', 'instrumentalness', 'liveness', 'valence', 'tempo', 'duration_ms','time_signature']\n",
    "\n",
    "user_song_id = []\n",
    "\n",
    "answer = input(\"Do you want me to recommend you a song? [1->Yes, 2->No] \")\n",
    "print()\n",
    "\n",
    "while answer == '1':\n",
    "    \n",
    "    title, artist = get_user_song()\n",
    "    user_dict = {'title': title, 'artist': artist}\n",
    "    user_preferences = pd.DataFrame.from_dict([user_dict])\n",
    "    user_song_id = search_song_id_user(user_preferences)\n",
    "    user_audio_features = get_audio_features(user_song_id[0]) \n",
    "    user_preferences = add_audio_features(user_preferences, user_audio__features) \n",
    "    df_final = user_preferences[features_clustering]\n",
    "    scaler=load(\"scalers/scaler.pickle\")\n",
    "    df_final_scaled = scaler.transform(df_final)\n",
    "    best_model = load(\"models/kmeans_17.pickle\")\n",
    "    user_cluster = best_model.predict(df_final_scaled)[0]\n",
    "    \n",
    "    if ( isin_hot(df, title, artist) == True):\n",
    "        recommended_song = X[(X['dataset']== \"H\") & (X['cluster'] == user_cluster) & (X['song_id'] != user_song_id)].sample()\n",
    "        print(recomended_song)\n",
    "        \n",
    "    else:\n",
    "        recommended_song = X[(X['dataset']== \"NH\") & (X['cluster'] == user_cluster) & (X['song_id'] != user_song_id) ].sample()\n",
    "        print(recomended_song)\n",
    "        \n",
    "        answer = input(\"Do you want me to recommend you another song? [1->Yes, 2->No] \")\n",
    "        \n",
    "#else:\n",
    "    #print()\n",
    "    #print(\"Come back soon!\")\n",
    " "
   ]
  }
 ],
 "metadata": {
  "kernelspec": {
   "display_name": "Python 3 (ipykernel)",
   "language": "python",
   "name": "python3"
  },
  "language_info": {
   "codemirror_mode": {
    "name": "ipython",
    "version": 3
   },
   "file_extension": ".py",
   "mimetype": "text/x-python",
   "name": "python",
   "nbconvert_exporter": "python",
   "pygments_lexer": "ipython3",
   "version": "3.9.12"
  },
  "toc": {
   "base_numbering": 1,
   "nav_menu": {},
   "number_sections": true,
   "sideBar": true,
   "skip_h1_title": false,
   "title_cell": "Table of Contents",
   "title_sidebar": "Contents",
   "toc_cell": false,
   "toc_position": {},
   "toc_section_display": true,
   "toc_window_display": false
  },
  "varInspector": {
   "cols": {
    "lenName": 16,
    "lenType": 16,
    "lenVar": 40
   },
   "kernels_config": {
    "python": {
     "delete_cmd_postfix": "",
     "delete_cmd_prefix": "del ",
     "library": "var_list.py",
     "varRefreshCmd": "print(var_dic_list())"
    },
    "r": {
     "delete_cmd_postfix": ") ",
     "delete_cmd_prefix": "rm(",
     "library": "var_list.r",
     "varRefreshCmd": "cat(var_dic_list()) "
    }
   },
   "types_to_exclude": [
    "module",
    "function",
    "builtin_function_or_method",
    "instance",
    "_Feature"
   ],
   "window_display": false
  }
 },
 "nbformat": 4,
 "nbformat_minor": 5
}
