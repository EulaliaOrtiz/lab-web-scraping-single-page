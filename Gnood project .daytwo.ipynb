{
 "cells": [
  {
   "cell_type": "markdown",
   "id": "85832aba",
   "metadata": {},
   "source": [
    "## Importing the necessary libraries"
   ]
  },
  {
   "cell_type": "code",
   "execution_count": null,
   "id": "b9e06cd6",
   "metadata": {},
   "outputs": [],
   "source": [
    "import numpy as np\n",
    "import pandas as pd\n",
    "import math\n",
    "import datetime\n",
    "import requests\n",
    "from config import *\n",
    "from bs4 import BeautifulSoup\n",
    "import spotipy\n",
    "import json\n",
    "from spotipy.oauth2 import SpotifyClientCredentials\n",
    "from time import sleep\n",
    "from random import randint"
   ]
  },
  {
   "cell_type": "code",
   "execution_count": null,
   "id": "46881cb6",
   "metadata": {
    "scrolled": false
   },
   "outputs": [],
   "source": [
    "!pip install bs4"
   ]
  },
  {
   "cell_type": "code",
   "execution_count": null,
   "id": "8fdb8e82",
   "metadata": {
    "code_folding": [],
    "scrolled": true
   },
   "outputs": [],
   "source": [
    "!pip install spotipy"
   ]
  },
  {
   "cell_type": "code",
   "execution_count": null,
   "id": "bca39720",
   "metadata": {},
   "outputs": [],
   "source": [
    "sp = spotipy.Spotify(auth_manager=SpotifyClientCredentials(client_id= client_id,\n",
    "                                                           client_secret= client_secret))"
   ]
  },
  {
   "cell_type": "markdown",
   "id": "f62621fd",
   "metadata": {},
   "source": [
    "## Creating search_song()"
   ]
  },
  {
   "cell_type": "markdown",
   "id": "ad6de120",
   "metadata": {},
   "source": [
    "Create a function to search a given song in the Spotify API: search_song(). Take into account that sometimes Spotify's API will return several matches for the same song title (different artists, a different album of the same artist, version of the song,...etc). Then it will be nice to display a list of outputs to the user and let him/her select which is the right match. Once the desired song is located, the function should return the href/id/uri of the song to the code (not to the user)."
   ]
  },
  {
   "cell_type": "code",
   "execution_count": null,
   "id": "52adc8b0",
   "metadata": {},
   "outputs": [],
   "source": [
    "billboard100 = pd.read_csv('billboard100.csv')"
   ]
  },
  {
   "cell_type": "code",
   "execution_count": null,
   "id": "74eb3dcc",
   "metadata": {},
   "outputs": [],
   "source": [
    "billboard100.head()"
   ]
  },
  {
   "cell_type": "code",
   "execution_count": null,
   "id": "655920bf",
   "metadata": {},
   "outputs": [],
   "source": [
    "def search_song_ids(df, stepsize=20):\n",
    "    song_ids = []\n",
    "    for number in range(0,len(df),stepsize):\n",
    "        print(\"Getting the song ids for the chunk:\",number)\n",
    "        print()\n",
    "        for index in list(range(len(df)))[number:number+stepsize]:\n",
    "            artist = df.iloc[index,1]\n",
    "            title = df.iloc[index,0]\n",
    "            try:\n",
    "                results = sp.search(q=\"track:\"+title+\" artist:\"+artist,limit=1)\n",
    "                song_id = results['tracks']['items'][0]['id']\n",
    "                song_ids.append(song_id)\n",
    "            except:\n",
    "                print(\"The song: {} of artist: {} is not on Spotify\".format(title, artist))\n",
    "                song_ids.append(np.nan)\n",
    "        sleep(20)\n",
    "        print()\n",
    "        print()\n",
    "    return song_ids"
   ]
  },
  {
   "cell_type": "markdown",
   "id": "ceb0e9e6",
   "metadata": {},
   "source": [
    "### Applying search_song to the billboard dataset and dropping the missing values."
   ]
  },
  {
   "cell_type": "code",
   "execution_count": null,
   "id": "ff7952aa",
   "metadata": {
    "scrolled": false
   },
   "outputs": [],
   "source": [
    "songs_ids_100 = search_song_ids(billboard100)"
   ]
  },
  {
   "cell_type": "code",
   "execution_count": null,
   "id": "c96383d9",
   "metadata": {
    "scrolled": true
   },
   "outputs": [],
   "source": [
    "display (songs_ids_100)"
   ]
  },
  {
   "cell_type": "code",
   "execution_count": null,
   "id": "659e8d64",
   "metadata": {},
   "outputs": [],
   "source": [
    "billboard100.shape"
   ]
  },
  {
   "cell_type": "code",
   "execution_count": null,
   "id": "15b8af8b",
   "metadata": {},
   "outputs": [],
   "source": [
    "billboard100.insert(loc=0, column='song_id', value=songs_ids_100)"
   ]
  },
  {
   "cell_type": "code",
   "execution_count": null,
   "id": "3dafff46",
   "metadata": {},
   "outputs": [],
   "source": [
    "billboard100.insert(loc=3 , column= 'dataset', value='H' )"
   ]
  },
  {
   "cell_type": "code",
   "execution_count": null,
   "id": "05152861",
   "metadata": {
    "scrolled": true
   },
   "outputs": [],
   "source": [
    "billboard100.head()"
   ]
  },
  {
   "cell_type": "code",
   "execution_count": null,
   "id": "6fc2a8b0",
   "metadata": {},
   "outputs": [],
   "source": [
    "billboard100.dropna(inplace=True)"
   ]
  },
  {
   "cell_type": "code",
   "execution_count": null,
   "id": "a673d834",
   "metadata": {},
   "outputs": [],
   "source": [
    "billboard100.shape"
   ]
  },
  {
   "cell_type": "markdown",
   "id": "ebf81766",
   "metadata": {},
   "source": [
    "### Applying search_song to the not_hot dataset and dropping missing values"
   ]
  },
  {
   "cell_type": "code",
   "execution_count": null,
   "id": "4ea91ced",
   "metadata": {},
   "outputs": [],
   "source": [
    "nothotsongs = pd.read_csv('not_hot_songs.csv')"
   ]
  },
  {
   "cell_type": "code",
   "execution_count": null,
   "id": "7ec8582b",
   "metadata": {},
   "outputs": [],
   "source": [
    "songs_ids_nothot = search_song_ids(nothotsongs)"
   ]
  },
  {
   "cell_type": "code",
   "execution_count": null,
   "id": "56b52857",
   "metadata": {},
   "outputs": [],
   "source": [
    "nothotsongs.insert(loc=0, column='song_id', value=songs_ids_nothot)"
   ]
  },
  {
   "cell_type": "code",
   "execution_count": null,
   "id": "1af33590",
   "metadata": {},
   "outputs": [],
   "source": [
    "nothotsongs.insert(loc=3 , column= 'dataset', value='NH' )"
   ]
  },
  {
   "cell_type": "code",
   "execution_count": null,
   "id": "df51d65a",
   "metadata": {},
   "outputs": [],
   "source": [
    "nothotsongs.dropna(inplace=True)"
   ]
  },
  {
   "cell_type": "markdown",
   "id": "31ee1179",
   "metadata": {},
   "source": [
    "## Creating \"get_audio_features(list_of_songs)\""
   ]
  },
  {
   "cell_type": "markdown",
   "id": "184189d8",
   "metadata": {},
   "source": [
    "Create a function \"get_audio_features(list_of_songs)\" to obtain the audio features of a given list of songs (the content of list_of_songs can be the href/id/uri). Then, use this function to create a Pandas Dataframe with the audio features of the list of songs. Hint: create a dictionary with the song's audio features as keys and an empty list as values. Then fill in the lists with the corresponding audio features of each song. Finally, create your data frame from the dictionary. Bear in mind the following: This API has a restriction on the"
   ]
  },
  {
   "cell_type": "code",
   "execution_count": null,
   "id": "20efef3c",
   "metadata": {},
   "outputs": [],
   "source": [
    "def get_audio_features(df, stepsize=20):\n",
    "    song_features = []\n",
    "    for number in range(0,len(df),stepsize):\n",
    "        print(\"Getting the features for the chunk:\",number)\n",
    "        print()\n",
    "        for index in list(range(len(df)))[number:number+stepsize]:\n",
    "            song_id = df.iloc[index,0]\n",
    "            try:\n",
    "                my_dict = sp.audio_features(song_id)[0]\n",
    "                song_features.append(my_dict)\n",
    "                \n",
    "            except:\n",
    "                print(\"The features for {} are not in spotify\".format(song_id))\n",
    "                my_new_dict = {}\n",
    "                song_features.append(my_new_dict)\n",
    "        \n",
    "                \n",
    "        sleep(20)\n",
    "        print()\n",
    "        print()\n",
    "    song_features = pd.DataFrame(song_features)\n",
    "    return song_features"
   ]
  },
  {
   "cell_type": "markdown",
   "id": "381a5f9d",
   "metadata": {},
   "source": [
    "### Applying get_audio_features to billboard100"
   ]
  },
  {
   "cell_type": "code",
   "execution_count": null,
   "id": "1e1d1fd2",
   "metadata": {
    "scrolled": false
   },
   "outputs": [],
   "source": [
    "billboard100features = get_audio_features(billboard100)"
   ]
  },
  {
   "cell_type": "code",
   "execution_count": null,
   "id": "5037ce42",
   "metadata": {},
   "outputs": [],
   "source": [
    "billboard100_final = pd.concat([billboard100.reset_index(), billboard100features], axis=1)\n",
    "billboard100_final.drop(columns=['index', 'id'], inplace=True)\n",
    "billboard100_final.head()"
   ]
  },
  {
   "cell_type": "code",
   "execution_count": null,
   "id": "5cfde716",
   "metadata": {},
   "outputs": [],
   "source": [
    "billboard100_final.to_csv('billboard100_final.csv', index=False)"
   ]
  },
  {
   "cell_type": "markdown",
   "id": "73a1733b",
   "metadata": {},
   "source": [
    "### Applying get_audio_features to nothotsongs"
   ]
  },
  {
   "cell_type": "code",
   "execution_count": null,
   "id": "9d286f33",
   "metadata": {},
   "outputs": [],
   "source": [
    "nothotsongsfeatures = get_audio_features(nothotsongs)"
   ]
  },
  {
   "cell_type": "code",
   "execution_count": null,
   "id": "8aee1c9e",
   "metadata": {},
   "outputs": [],
   "source": [
    "nothotsongs_final = pd.concat([nothotsongs.reset_index(), nothotsongsfeatures], axis=1)\n",
    "nothotsongs_final.drop(columns=['index', 'id'], inplace=True)\n",
    "nothotsongs_final.head()"
   ]
  },
  {
   "cell_type": "code",
   "execution_count": null,
   "id": "0d00a207",
   "metadata": {},
   "outputs": [],
   "source": [
    "nothotsongs_final.to_csv('nothotsongs_final.csv', index=False)"
   ]
  },
  {
   "cell_type": "markdown",
   "id": "2cffc247",
   "metadata": {},
   "source": [
    "## Creating \"add_audio_features(df, audio_features_df)\""
   ]
  },
  {
   "cell_type": "markdown",
   "id": "b9f9d270",
   "metadata": {},
   "source": [
    "Once the previous function has been created, create another function \"add_audio_features(df, audio_features_df)\" to concat a given data frame with the data frame containing the audio features alongside any other desired info, and return the extended data frame."
   ]
  },
  {
   "cell_type": "markdown",
   "id": "88e5e560",
   "metadata": {},
   "source": [
    "Replace the old internal files of songs (hot and not hot) with the extended data frames with the audio features and save them into separate files on the disk."
   ]
  },
  {
   "cell_type": "markdown",
   "id": "3ff6594c",
   "metadata": {},
   "source": [
    "def add_audio_features(df, audio_features_df): \n",
    "    dffinal = pandas.concat(df, audio_features_df, axis=1)\n",
    "return "
   ]
  },
  {
   "cell_type": "code",
   "execution_count": null,
   "id": "59169085",
   "metadata": {},
   "outputs": [],
   "source": []
  },
  {
   "cell_type": "code",
   "execution_count": null,
   "id": "68037195",
   "metadata": {},
   "outputs": [],
   "source": []
  },
  {
   "cell_type": "code",
   "execution_count": null,
   "id": "114209a3",
   "metadata": {},
   "outputs": [],
   "source": []
  },
  {
   "cell_type": "code",
   "execution_count": null,
   "id": "69998c5d",
   "metadata": {},
   "outputs": [],
   "source": []
  },
  {
   "cell_type": "code",
   "execution_count": null,
   "id": "14f2affb",
   "metadata": {},
   "outputs": [],
   "source": []
  }
 ],
 "metadata": {
  "kernelspec": {
   "display_name": "Python 3 (ipykernel)",
   "language": "python",
   "name": "python3"
  },
  "language_info": {
   "codemirror_mode": {
    "name": "ipython",
    "version": 3
   },
   "file_extension": ".py",
   "mimetype": "text/x-python",
   "name": "python",
   "nbconvert_exporter": "python",
   "pygments_lexer": "ipython3",
   "version": "3.9.12"
  },
  "toc": {
   "base_numbering": 1,
   "nav_menu": {},
   "number_sections": true,
   "sideBar": true,
   "skip_h1_title": false,
   "title_cell": "Table of Contents",
   "title_sidebar": "Contents",
   "toc_cell": false,
   "toc_position": {
    "height": "calc(100% - 180px)",
    "left": "10px",
    "top": "150px",
    "width": "165px"
   },
   "toc_section_display": true,
   "toc_window_display": true
  },
  "varInspector": {
   "cols": {
    "lenName": 16,
    "lenType": 16,
    "lenVar": 40
   },
   "kernels_config": {
    "python": {
     "delete_cmd_postfix": "",
     "delete_cmd_prefix": "del ",
     "library": "var_list.py",
     "varRefreshCmd": "print(var_dic_list())"
    },
    "r": {
     "delete_cmd_postfix": ") ",
     "delete_cmd_prefix": "rm(",
     "library": "var_list.r",
     "varRefreshCmd": "cat(var_dic_list()) "
    }
   },
   "types_to_exclude": [
    "module",
    "function",
    "builtin_function_or_method",
    "instance",
    "_Feature"
   ],
   "window_display": false
  }
 },
 "nbformat": 4,
 "nbformat_minor": 5
}
