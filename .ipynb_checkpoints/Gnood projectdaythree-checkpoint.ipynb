{
 "cells": [
  {
   "cell_type": "code",
   "execution_count": 2,
   "id": "78e2a7a1",
   "metadata": {},
   "outputs": [],
   "source": [
    "import pandas as pd\n",
    "from sklearn import datasets # sklearn comes with some toy datasets to practise\n",
    "from sklearn.preprocessing import StandardScaler\n",
    "from sklearn.cluster import KMeans\n",
    "from sklearn.metrics import silhouette_score"
   ]
  },
  {
   "cell_type": "markdown",
   "id": "3e1f95e7",
   "metadata": {},
   "source": [
    "\n",
    "Now it's time to cluster the songs of the hot_songs and not_hot_songs databases according to the song's audio features. You will need to consider the following:\n",
    "\n",
    "Are you going to use all the audio features? If not, which ones do you think to make more sense? What is the optimal number of clusters (for methods that need to know this beforehand)? What is the best distance to use? What clustering method provides better results? Does the clustering method need a transformer? Be aware that this process is extremely time-consuming!!! Therefore, when testing different options, save the models into your disk in order to be able to use the best model later. You don't want to retrain the best model again when you know what are the optimal parameters for each.\n",
    "\n",
    "Add to the hot_songs and not_hot_songs databases a new column for each clustering method with the cluster membership of each song for each method."
   ]
  },
  {
   "cell_type": "code",
   "execution_count": 3,
   "id": "3d463b8e",
   "metadata": {},
   "outputs": [],
   "source": [
    "pd.set_option('display.max_columns', None)"
   ]
  },
  {
   "cell_type": "markdown",
   "id": "173d1f8a",
   "metadata": {},
   "source": [
    "## Importing the datasets and concatenating\n"
   ]
  },
  {
   "cell_type": "code",
   "execution_count": 4,
   "id": "54e4b7a5",
   "metadata": {},
   "outputs": [],
   "source": [
    "billboard100_final = pd.read_csv('billboard100_final.csv')"
   ]
  },
  {
   "cell_type": "code",
   "execution_count": 5,
   "id": "3729a3bb",
   "metadata": {},
   "outputs": [
    {
     "data": {
      "text/html": [
       "<div>\n",
       "<style scoped>\n",
       "    .dataframe tbody tr th:only-of-type {\n",
       "        vertical-align: middle;\n",
       "    }\n",
       "\n",
       "    .dataframe tbody tr th {\n",
       "        vertical-align: top;\n",
       "    }\n",
       "\n",
       "    .dataframe thead th {\n",
       "        text-align: right;\n",
       "    }\n",
       "</style>\n",
       "<table border=\"1\" class=\"dataframe\">\n",
       "  <thead>\n",
       "    <tr style=\"text-align: right;\">\n",
       "      <th></th>\n",
       "      <th>song_id</th>\n",
       "      <th>title</th>\n",
       "      <th>artist</th>\n",
       "      <th>dataset</th>\n",
       "      <th>danceability</th>\n",
       "      <th>energy</th>\n",
       "      <th>key</th>\n",
       "      <th>loudness</th>\n",
       "      <th>mode</th>\n",
       "      <th>speechiness</th>\n",
       "      <th>acousticness</th>\n",
       "      <th>instrumentalness</th>\n",
       "      <th>liveness</th>\n",
       "      <th>valence</th>\n",
       "      <th>tempo</th>\n",
       "      <th>type</th>\n",
       "      <th>uri</th>\n",
       "      <th>track_href</th>\n",
       "      <th>analysis_url</th>\n",
       "      <th>duration_ms</th>\n",
       "      <th>time_signature</th>\n",
       "    </tr>\n",
       "  </thead>\n",
       "  <tbody>\n",
       "    <tr>\n",
       "      <th>0</th>\n",
       "      <td>4LRPiXqCikLlN15c3yImP7</td>\n",
       "      <td>As It Was</td>\n",
       "      <td>Harry Styles</td>\n",
       "      <td>H</td>\n",
       "      <td>0.520</td>\n",
       "      <td>0.731</td>\n",
       "      <td>6</td>\n",
       "      <td>-5.338</td>\n",
       "      <td>0</td>\n",
       "      <td>0.0557</td>\n",
       "      <td>0.3420</td>\n",
       "      <td>0.001010</td>\n",
       "      <td>0.3110</td>\n",
       "      <td>0.662</td>\n",
       "      <td>173.930</td>\n",
       "      <td>audio_features</td>\n",
       "      <td>spotify:track:4LRPiXqCikLlN15c3yImP7</td>\n",
       "      <td>https://api.spotify.com/v1/tracks/4LRPiXqCikLl...</td>\n",
       "      <td>https://api.spotify.com/v1/audio-analysis/4LRP...</td>\n",
       "      <td>167303</td>\n",
       "      <td>4</td>\n",
       "    </tr>\n",
       "    <tr>\n",
       "      <th>1</th>\n",
       "      <td>1rDQ4oMwGJI7B4tovsBOxc</td>\n",
       "      <td>First Class</td>\n",
       "      <td>Jack Harlow</td>\n",
       "      <td>H</td>\n",
       "      <td>0.905</td>\n",
       "      <td>0.563</td>\n",
       "      <td>8</td>\n",
       "      <td>-6.135</td>\n",
       "      <td>1</td>\n",
       "      <td>0.1020</td>\n",
       "      <td>0.0254</td>\n",
       "      <td>0.000010</td>\n",
       "      <td>0.1130</td>\n",
       "      <td>0.324</td>\n",
       "      <td>106.998</td>\n",
       "      <td>audio_features</td>\n",
       "      <td>spotify:track:1rDQ4oMwGJI7B4tovsBOxc</td>\n",
       "      <td>https://api.spotify.com/v1/tracks/1rDQ4oMwGJI7...</td>\n",
       "      <td>https://api.spotify.com/v1/audio-analysis/1rDQ...</td>\n",
       "      <td>173948</td>\n",
       "      <td>4</td>\n",
       "    </tr>\n",
       "    <tr>\n",
       "      <th>2</th>\n",
       "      <td>1PckUlxKqWQs3RlWXVBLw3</td>\n",
       "      <td>About Damn Time</td>\n",
       "      <td>Lizzo</td>\n",
       "      <td>H</td>\n",
       "      <td>0.836</td>\n",
       "      <td>0.743</td>\n",
       "      <td>10</td>\n",
       "      <td>-6.305</td>\n",
       "      <td>0</td>\n",
       "      <td>0.0656</td>\n",
       "      <td>0.0995</td>\n",
       "      <td>0.000000</td>\n",
       "      <td>0.3350</td>\n",
       "      <td>0.722</td>\n",
       "      <td>108.966</td>\n",
       "      <td>audio_features</td>\n",
       "      <td>spotify:track:1PckUlxKqWQs3RlWXVBLw3</td>\n",
       "      <td>https://api.spotify.com/v1/tracks/1PckUlxKqWQs...</td>\n",
       "      <td>https://api.spotify.com/v1/audio-analysis/1Pck...</td>\n",
       "      <td>191822</td>\n",
       "      <td>4</td>\n",
       "    </tr>\n",
       "    <tr>\n",
       "      <th>3</th>\n",
       "      <td>3USxtqRwSYz57Ewm6wWRMp</td>\n",
       "      <td>Heat Waves</td>\n",
       "      <td>Glass Animals</td>\n",
       "      <td>H</td>\n",
       "      <td>0.761</td>\n",
       "      <td>0.525</td>\n",
       "      <td>11</td>\n",
       "      <td>-6.900</td>\n",
       "      <td>1</td>\n",
       "      <td>0.0944</td>\n",
       "      <td>0.4400</td>\n",
       "      <td>0.000007</td>\n",
       "      <td>0.0921</td>\n",
       "      <td>0.531</td>\n",
       "      <td>80.870</td>\n",
       "      <td>audio_features</td>\n",
       "      <td>spotify:track:3USxtqRwSYz57Ewm6wWRMp</td>\n",
       "      <td>https://api.spotify.com/v1/tracks/3USxtqRwSYz5...</td>\n",
       "      <td>https://api.spotify.com/v1/audio-analysis/3USx...</td>\n",
       "      <td>238805</td>\n",
       "      <td>4</td>\n",
       "    </tr>\n",
       "    <tr>\n",
       "      <th>4</th>\n",
       "      <td>6Zu3aw7FfjAF9WA0fA81Oq</td>\n",
       "      <td>Big Energy</td>\n",
       "      <td>Latto</td>\n",
       "      <td>H</td>\n",
       "      <td>0.935</td>\n",
       "      <td>0.807</td>\n",
       "      <td>11</td>\n",
       "      <td>-3.838</td>\n",
       "      <td>0</td>\n",
       "      <td>0.1140</td>\n",
       "      <td>0.0514</td>\n",
       "      <td>0.000000</td>\n",
       "      <td>0.3490</td>\n",
       "      <td>0.813</td>\n",
       "      <td>106.017</td>\n",
       "      <td>audio_features</td>\n",
       "      <td>spotify:track:6Zu3aw7FfjAF9WA0fA81Oq</td>\n",
       "      <td>https://api.spotify.com/v1/tracks/6Zu3aw7FfjAF...</td>\n",
       "      <td>https://api.spotify.com/v1/audio-analysis/6Zu3...</td>\n",
       "      <td>173182</td>\n",
       "      <td>4</td>\n",
       "    </tr>\n",
       "  </tbody>\n",
       "</table>\n",
       "</div>"
      ],
      "text/plain": [
       "                  song_id            title         artist dataset  \\\n",
       "0  4LRPiXqCikLlN15c3yImP7        As It Was   Harry Styles       H   \n",
       "1  1rDQ4oMwGJI7B4tovsBOxc      First Class    Jack Harlow       H   \n",
       "2  1PckUlxKqWQs3RlWXVBLw3  About Damn Time          Lizzo       H   \n",
       "3  3USxtqRwSYz57Ewm6wWRMp       Heat Waves  Glass Animals       H   \n",
       "4  6Zu3aw7FfjAF9WA0fA81Oq       Big Energy          Latto       H   \n",
       "\n",
       "   danceability  energy  key  loudness  mode  speechiness  acousticness  \\\n",
       "0         0.520   0.731    6    -5.338     0       0.0557        0.3420   \n",
       "1         0.905   0.563    8    -6.135     1       0.1020        0.0254   \n",
       "2         0.836   0.743   10    -6.305     0       0.0656        0.0995   \n",
       "3         0.761   0.525   11    -6.900     1       0.0944        0.4400   \n",
       "4         0.935   0.807   11    -3.838     0       0.1140        0.0514   \n",
       "\n",
       "   instrumentalness  liveness  valence    tempo            type  \\\n",
       "0          0.001010    0.3110    0.662  173.930  audio_features   \n",
       "1          0.000010    0.1130    0.324  106.998  audio_features   \n",
       "2          0.000000    0.3350    0.722  108.966  audio_features   \n",
       "3          0.000007    0.0921    0.531   80.870  audio_features   \n",
       "4          0.000000    0.3490    0.813  106.017  audio_features   \n",
       "\n",
       "                                    uri  \\\n",
       "0  spotify:track:4LRPiXqCikLlN15c3yImP7   \n",
       "1  spotify:track:1rDQ4oMwGJI7B4tovsBOxc   \n",
       "2  spotify:track:1PckUlxKqWQs3RlWXVBLw3   \n",
       "3  spotify:track:3USxtqRwSYz57Ewm6wWRMp   \n",
       "4  spotify:track:6Zu3aw7FfjAF9WA0fA81Oq   \n",
       "\n",
       "                                          track_href  \\\n",
       "0  https://api.spotify.com/v1/tracks/4LRPiXqCikLl...   \n",
       "1  https://api.spotify.com/v1/tracks/1rDQ4oMwGJI7...   \n",
       "2  https://api.spotify.com/v1/tracks/1PckUlxKqWQs...   \n",
       "3  https://api.spotify.com/v1/tracks/3USxtqRwSYz5...   \n",
       "4  https://api.spotify.com/v1/tracks/6Zu3aw7FfjAF...   \n",
       "\n",
       "                                        analysis_url  duration_ms  \\\n",
       "0  https://api.spotify.com/v1/audio-analysis/4LRP...       167303   \n",
       "1  https://api.spotify.com/v1/audio-analysis/1rDQ...       173948   \n",
       "2  https://api.spotify.com/v1/audio-analysis/1Pck...       191822   \n",
       "3  https://api.spotify.com/v1/audio-analysis/3USx...       238805   \n",
       "4  https://api.spotify.com/v1/audio-analysis/6Zu3...       173182   \n",
       "\n",
       "   time_signature  \n",
       "0               4  \n",
       "1               4  \n",
       "2               4  \n",
       "3               4  \n",
       "4               4  "
      ]
     },
     "execution_count": 5,
     "metadata": {},
     "output_type": "execute_result"
    }
   ],
   "source": [
    "billboard100_final.head()"
   ]
  },
  {
   "cell_type": "code",
   "execution_count": 6,
   "id": "39a371f4",
   "metadata": {},
   "outputs": [
    {
     "data": {
      "text/plain": [
       "(75, 21)"
      ]
     },
     "execution_count": 6,
     "metadata": {},
     "output_type": "execute_result"
    }
   ],
   "source": [
    "billboard100_final.shape\n"
   ]
  },
  {
   "cell_type": "code",
   "execution_count": 8,
   "id": "35258b16",
   "metadata": {},
   "outputs": [],
   "source": [
    "nothotsongs_final = pd.read_csv('nothotsongs_final.csv')"
   ]
  },
  {
   "cell_type": "code",
   "execution_count": 15,
   "id": "d868f6ec",
   "metadata": {},
   "outputs": [],
   "source": [
    "nothotsongs_final = nothotsongs_final.iloc[:, :21]"
   ]
  },
  {
   "cell_type": "code",
   "execution_count": null,
   "id": "07467296",
   "metadata": {},
   "outputs": [],
   "source": []
  },
  {
   "cell_type": "code",
   "execution_count": 17,
   "id": "d01d57e6",
   "metadata": {},
   "outputs": [],
   "source": [
    "X = pd.concat([billboard100_final, nothotsongs_final], axis=0)"
   ]
  },
  {
   "cell_type": "code",
   "execution_count": 18,
   "id": "535e3f73",
   "metadata": {},
   "outputs": [
    {
     "data": {
      "text/html": [
       "<div>\n",
       "<style scoped>\n",
       "    .dataframe tbody tr th:only-of-type {\n",
       "        vertical-align: middle;\n",
       "    }\n",
       "\n",
       "    .dataframe tbody tr th {\n",
       "        vertical-align: top;\n",
       "    }\n",
       "\n",
       "    .dataframe thead th {\n",
       "        text-align: right;\n",
       "    }\n",
       "</style>\n",
       "<table border=\"1\" class=\"dataframe\">\n",
       "  <thead>\n",
       "    <tr style=\"text-align: right;\">\n",
       "      <th></th>\n",
       "      <th>song_id</th>\n",
       "      <th>title</th>\n",
       "      <th>artist</th>\n",
       "      <th>dataset</th>\n",
       "      <th>danceability</th>\n",
       "      <th>energy</th>\n",
       "      <th>key</th>\n",
       "      <th>loudness</th>\n",
       "      <th>mode</th>\n",
       "      <th>speechiness</th>\n",
       "      <th>acousticness</th>\n",
       "      <th>instrumentalness</th>\n",
       "      <th>liveness</th>\n",
       "      <th>valence</th>\n",
       "      <th>tempo</th>\n",
       "      <th>type</th>\n",
       "      <th>uri</th>\n",
       "      <th>track_href</th>\n",
       "      <th>analysis_url</th>\n",
       "      <th>duration_ms</th>\n",
       "      <th>time_signature</th>\n",
       "    </tr>\n",
       "  </thead>\n",
       "  <tbody>\n",
       "    <tr>\n",
       "      <th>0</th>\n",
       "      <td>4LRPiXqCikLlN15c3yImP7</td>\n",
       "      <td>As It Was</td>\n",
       "      <td>Harry Styles</td>\n",
       "      <td>H</td>\n",
       "      <td>0.520</td>\n",
       "      <td>0.731</td>\n",
       "      <td>6</td>\n",
       "      <td>-5.338</td>\n",
       "      <td>0</td>\n",
       "      <td>0.0557</td>\n",
       "      <td>0.3420</td>\n",
       "      <td>0.001010</td>\n",
       "      <td>0.3110</td>\n",
       "      <td>0.662</td>\n",
       "      <td>173.930</td>\n",
       "      <td>audio_features</td>\n",
       "      <td>spotify:track:4LRPiXqCikLlN15c3yImP7</td>\n",
       "      <td>https://api.spotify.com/v1/tracks/4LRPiXqCikLl...</td>\n",
       "      <td>https://api.spotify.com/v1/audio-analysis/4LRP...</td>\n",
       "      <td>167303</td>\n",
       "      <td>4</td>\n",
       "    </tr>\n",
       "    <tr>\n",
       "      <th>1</th>\n",
       "      <td>1rDQ4oMwGJI7B4tovsBOxc</td>\n",
       "      <td>First Class</td>\n",
       "      <td>Jack Harlow</td>\n",
       "      <td>H</td>\n",
       "      <td>0.905</td>\n",
       "      <td>0.563</td>\n",
       "      <td>8</td>\n",
       "      <td>-6.135</td>\n",
       "      <td>1</td>\n",
       "      <td>0.1020</td>\n",
       "      <td>0.0254</td>\n",
       "      <td>0.000010</td>\n",
       "      <td>0.1130</td>\n",
       "      <td>0.324</td>\n",
       "      <td>106.998</td>\n",
       "      <td>audio_features</td>\n",
       "      <td>spotify:track:1rDQ4oMwGJI7B4tovsBOxc</td>\n",
       "      <td>https://api.spotify.com/v1/tracks/1rDQ4oMwGJI7...</td>\n",
       "      <td>https://api.spotify.com/v1/audio-analysis/1rDQ...</td>\n",
       "      <td>173948</td>\n",
       "      <td>4</td>\n",
       "    </tr>\n",
       "    <tr>\n",
       "      <th>2</th>\n",
       "      <td>1PckUlxKqWQs3RlWXVBLw3</td>\n",
       "      <td>About Damn Time</td>\n",
       "      <td>Lizzo</td>\n",
       "      <td>H</td>\n",
       "      <td>0.836</td>\n",
       "      <td>0.743</td>\n",
       "      <td>10</td>\n",
       "      <td>-6.305</td>\n",
       "      <td>0</td>\n",
       "      <td>0.0656</td>\n",
       "      <td>0.0995</td>\n",
       "      <td>0.000000</td>\n",
       "      <td>0.3350</td>\n",
       "      <td>0.722</td>\n",
       "      <td>108.966</td>\n",
       "      <td>audio_features</td>\n",
       "      <td>spotify:track:1PckUlxKqWQs3RlWXVBLw3</td>\n",
       "      <td>https://api.spotify.com/v1/tracks/1PckUlxKqWQs...</td>\n",
       "      <td>https://api.spotify.com/v1/audio-analysis/1Pck...</td>\n",
       "      <td>191822</td>\n",
       "      <td>4</td>\n",
       "    </tr>\n",
       "    <tr>\n",
       "      <th>3</th>\n",
       "      <td>3USxtqRwSYz57Ewm6wWRMp</td>\n",
       "      <td>Heat Waves</td>\n",
       "      <td>Glass Animals</td>\n",
       "      <td>H</td>\n",
       "      <td>0.761</td>\n",
       "      <td>0.525</td>\n",
       "      <td>11</td>\n",
       "      <td>-6.900</td>\n",
       "      <td>1</td>\n",
       "      <td>0.0944</td>\n",
       "      <td>0.4400</td>\n",
       "      <td>0.000007</td>\n",
       "      <td>0.0921</td>\n",
       "      <td>0.531</td>\n",
       "      <td>80.870</td>\n",
       "      <td>audio_features</td>\n",
       "      <td>spotify:track:3USxtqRwSYz57Ewm6wWRMp</td>\n",
       "      <td>https://api.spotify.com/v1/tracks/3USxtqRwSYz5...</td>\n",
       "      <td>https://api.spotify.com/v1/audio-analysis/3USx...</td>\n",
       "      <td>238805</td>\n",
       "      <td>4</td>\n",
       "    </tr>\n",
       "    <tr>\n",
       "      <th>4</th>\n",
       "      <td>6Zu3aw7FfjAF9WA0fA81Oq</td>\n",
       "      <td>Big Energy</td>\n",
       "      <td>Latto</td>\n",
       "      <td>H</td>\n",
       "      <td>0.935</td>\n",
       "      <td>0.807</td>\n",
       "      <td>11</td>\n",
       "      <td>-3.838</td>\n",
       "      <td>0</td>\n",
       "      <td>0.1140</td>\n",
       "      <td>0.0514</td>\n",
       "      <td>0.000000</td>\n",
       "      <td>0.3490</td>\n",
       "      <td>0.813</td>\n",
       "      <td>106.017</td>\n",
       "      <td>audio_features</td>\n",
       "      <td>spotify:track:6Zu3aw7FfjAF9WA0fA81Oq</td>\n",
       "      <td>https://api.spotify.com/v1/tracks/6Zu3aw7FfjAF...</td>\n",
       "      <td>https://api.spotify.com/v1/audio-analysis/6Zu3...</td>\n",
       "      <td>173182</td>\n",
       "      <td>4</td>\n",
       "    </tr>\n",
       "  </tbody>\n",
       "</table>\n",
       "</div>"
      ],
      "text/plain": [
       "                  song_id            title         artist dataset  \\\n",
       "0  4LRPiXqCikLlN15c3yImP7        As It Was   Harry Styles       H   \n",
       "1  1rDQ4oMwGJI7B4tovsBOxc      First Class    Jack Harlow       H   \n",
       "2  1PckUlxKqWQs3RlWXVBLw3  About Damn Time          Lizzo       H   \n",
       "3  3USxtqRwSYz57Ewm6wWRMp       Heat Waves  Glass Animals       H   \n",
       "4  6Zu3aw7FfjAF9WA0fA81Oq       Big Energy          Latto       H   \n",
       "\n",
       "   danceability  energy  key  loudness  mode  speechiness  acousticness  \\\n",
       "0         0.520   0.731    6    -5.338     0       0.0557        0.3420   \n",
       "1         0.905   0.563    8    -6.135     1       0.1020        0.0254   \n",
       "2         0.836   0.743   10    -6.305     0       0.0656        0.0995   \n",
       "3         0.761   0.525   11    -6.900     1       0.0944        0.4400   \n",
       "4         0.935   0.807   11    -3.838     0       0.1140        0.0514   \n",
       "\n",
       "   instrumentalness  liveness  valence    tempo            type  \\\n",
       "0          0.001010    0.3110    0.662  173.930  audio_features   \n",
       "1          0.000010    0.1130    0.324  106.998  audio_features   \n",
       "2          0.000000    0.3350    0.722  108.966  audio_features   \n",
       "3          0.000007    0.0921    0.531   80.870  audio_features   \n",
       "4          0.000000    0.3490    0.813  106.017  audio_features   \n",
       "\n",
       "                                    uri  \\\n",
       "0  spotify:track:4LRPiXqCikLlN15c3yImP7   \n",
       "1  spotify:track:1rDQ4oMwGJI7B4tovsBOxc   \n",
       "2  spotify:track:1PckUlxKqWQs3RlWXVBLw3   \n",
       "3  spotify:track:3USxtqRwSYz57Ewm6wWRMp   \n",
       "4  spotify:track:6Zu3aw7FfjAF9WA0fA81Oq   \n",
       "\n",
       "                                          track_href  \\\n",
       "0  https://api.spotify.com/v1/tracks/4LRPiXqCikLl...   \n",
       "1  https://api.spotify.com/v1/tracks/1rDQ4oMwGJI7...   \n",
       "2  https://api.spotify.com/v1/tracks/1PckUlxKqWQs...   \n",
       "3  https://api.spotify.com/v1/tracks/3USxtqRwSYz5...   \n",
       "4  https://api.spotify.com/v1/tracks/6Zu3aw7FfjAF...   \n",
       "\n",
       "                                        analysis_url  duration_ms  \\\n",
       "0  https://api.spotify.com/v1/audio-analysis/4LRP...       167303   \n",
       "1  https://api.spotify.com/v1/audio-analysis/1rDQ...       173948   \n",
       "2  https://api.spotify.com/v1/audio-analysis/1Pck...       191822   \n",
       "3  https://api.spotify.com/v1/audio-analysis/3USx...       238805   \n",
       "4  https://api.spotify.com/v1/audio-analysis/6Zu3...       173182   \n",
       "\n",
       "   time_signature  \n",
       "0               4  \n",
       "1               4  \n",
       "2               4  \n",
       "3               4  \n",
       "4               4  "
      ]
     },
     "execution_count": 18,
     "metadata": {},
     "output_type": "execute_result"
    }
   ],
   "source": [
    "X.head()"
   ]
  },
  {
   "cell_type": "code",
   "execution_count": 19,
   "id": "e68c0071",
   "metadata": {},
   "outputs": [
    {
     "data": {
      "text/plain": [
       "(1949, 21)"
      ]
     },
     "execution_count": 19,
     "metadata": {},
     "output_type": "execute_result"
    }
   ],
   "source": [
    "X.shape"
   ]
  },
  {
   "cell_type": "markdown",
   "id": "57b6237c",
   "metadata": {},
   "source": [
    "## Dropping unnecessary columns"
   ]
  },
  {
   "cell_type": "code",
   "execution_count": 25,
   "id": "ff858115",
   "metadata": {},
   "outputs": [],
   "source": [
    "X.drop(columns=['song_id','title', 'artist', 'dataset','type', 'uri', 'track_href', 'analysis_url', 'time_signature'], axis=1, inplace=True)"
   ]
  },
  {
   "cell_type": "markdown",
   "id": "9b60936b",
   "metadata": {},
   "source": [
    "## Scaling features"
   ]
  },
  {
   "cell_type": "code",
   "execution_count": 33,
   "id": "aeb2e98e",
   "metadata": {},
   "outputs": [
    {
     "ename": "PermissionError",
     "evalue": "[Errno 13] Permission denied: 'C:/Users/31612/Documents/IRONHACK/6Week_six/lab-web-scraping-single-page'",
     "output_type": "error",
     "traceback": [
      "\u001b[1;31m---------------------------------------------------------------------------\u001b[0m",
      "\u001b[1;31mPermissionError\u001b[0m                           Traceback (most recent call last)",
      "Input \u001b[1;32mIn [33]\u001b[0m, in \u001b[0;36m<cell line: 8>\u001b[1;34m()\u001b[0m\n\u001b[0;32m      5\u001b[0m X_scaled \u001b[38;5;241m=\u001b[39m scaler\u001b[38;5;241m.\u001b[39mtransform(X)\n\u001b[0;32m      6\u001b[0m filename \u001b[38;5;241m=\u001b[39m \u001b[38;5;124m\"\u001b[39m\u001b[38;5;124mC:/Users/31612/Documents/IRONHACK/6Week_six/lab-web-scraping-single-page\u001b[39m\u001b[38;5;124m\"\u001b[39m \u001b[38;5;66;03m# Path with filename\u001b[39;00m\n\u001b[1;32m----> 8\u001b[0m \u001b[38;5;28;01mwith\u001b[39;00m \u001b[38;5;28;43mopen\u001b[39;49m\u001b[43m(\u001b[49m\u001b[43mfilename\u001b[49m\u001b[43m,\u001b[49m\u001b[43m \u001b[49m\u001b[38;5;124;43m\"\u001b[39;49m\u001b[38;5;124;43mw\u001b[39;49m\u001b[38;5;124;43m\"\u001b[39;49m\u001b[43m)\u001b[49m \u001b[38;5;28;01mas\u001b[39;00m file:\n\u001b[0;32m      9\u001b[0m         pickle\u001b[38;5;241m.\u001b[39mdump(scaler,file)\n\u001b[0;32m     11\u001b[0m X_scaled_df \u001b[38;5;241m=\u001b[39m pd\u001b[38;5;241m.\u001b[39mDataFrame(X_scaled, columns \u001b[38;5;241m=\u001b[39m X\u001b[38;5;241m.\u001b[39mcolumns)\n",
      "\u001b[1;31mPermissionError\u001b[0m: [Errno 13] Permission denied: 'C:/Users/31612/Documents/IRONHACK/6Week_six/lab-web-scraping-single-page'"
     ]
    }
   ],
   "source": [
    "import pickle\n",
    "\n",
    "scaler = StandardScaler()\n",
    "scaler.fit(X)\n",
    "X_scaled = scaler.transform(X)\n",
    "filename = \"C:/Users/31612/Documents/IRONHACK/6Week_six/lab-web-scraping-single-page\" # Path with filename\n",
    "\n",
    "with open(filename, \"wb\") as file:\n",
    "        pickle.dump(scaler,file)\n",
    "\n",
    "X_scaled_df = pd.DataFrame(X_scaled, columns = X.columns)\n",
    "display(X.head())\n",
    "print()\n",
    "display(X_scaled_df.head())"
   ]
  },
  {
   "cell_type": "code",
   "execution_count": null,
   "id": "707bade2",
   "metadata": {},
   "outputs": [],
   "source": [
    "X_scaled_df.describe()"
   ]
  },
  {
   "cell_type": "markdown",
   "id": "ae79e3e5",
   "metadata": {},
   "source": [
    "## Clustering the wines with K-Means"
   ]
  },
  {
   "cell_type": "code",
   "execution_count": null,
   "id": "73e24f6a",
   "metadata": {},
   "outputs": [],
   "source": [
    "kmeans = KMeans(n_clusters=8, random_state=1234)\n",
    "kmeans.fit(X_scaled_df)"
   ]
  },
  {
   "cell_type": "code",
   "execution_count": null,
   "id": "fc16efec",
   "metadata": {},
   "outputs": [],
   "source": [
    "clusters = kmeans.predict(X_scaled_df)\n",
    "\n",
    "pd.Series(clusters).value_counts().sort_index()"
   ]
  },
  {
   "cell_type": "code",
   "execution_count": null,
   "id": "f552fb5d",
   "metadata": {},
   "outputs": [],
   "source": [
    "X[\"cluster\"] = clusters\n",
    "X.head()"
   ]
  },
  {
   "cell_type": "code",
   "execution_count": null,
   "id": "94a5ad46",
   "metadata": {},
   "outputs": [],
   "source": [
    "#X[(X['dataset'] == \"N\") & (X['cluster'] == user_cluster)].sample() dataset== H or NH - cluster==assigned cluster"
   ]
  },
  {
   "cell_type": "markdown",
   "id": "ce8ca7c6",
   "metadata": {},
   "source": [
    "## Chosing K"
   ]
  },
  {
   "cell_type": "code",
   "execution_count": null,
   "id": "15044200",
   "metadata": {},
   "outputs": [],
   "source": [
    "K = range(2, 21)\n",
    "\n",
    "inertia = []\n",
    "silhouette = []\n",
    "\n",
    "for k in K:\n",
    "    print(\"Training a K-Means model with {} clusters! \".format(k))\n",
    "    print()\n",
    "    kmeans = KMeans(n_clusters=k,\n",
    "                    random_state=1234,\n",
    "                    verbose=1)\n",
    "    kmeans.fit(X_scaled_df)\n",
    "    \n",
    "    filename = \"/content/drive/MyDrive/kmeans_\" + str(k) + \".pickle\" # Path with filename\n",
    "    with open(filename, \"wb\") as file:\n",
    "        pickle.dump(kmeans,file)\n",
    "\n",
    "    inertia.append(kmeans.inertia_)\n",
    "    silhouette.append(silhouette_score(X_scaled_df, kmeans.predict(X_scaled_df)))\n",
    "\n",
    "\n",
    "import numpy as np\n",
    "import matplotlib.pyplot as plt\n",
    "%matplotlib inline\n",
    "\n",
    "fig, ax = plt.subplots(1,2,figsize=(16,8))\n",
    "ax[0].plot(K, inertia, 'bx-')\n",
    "ax[0].set_xlabel('k')\n",
    "ax[0].set_ylabel('inertia')\n",
    "ax[0].set_xticks(np.arange(min(K), max(K)+1, 1.0))\n",
    "ax[0].set_title('Elbow Method showing the optimal k')\n",
    "ax[1].plot(K, silhouette, 'bx-')\n",
    "ax[1].set_xlabel('k')\n",
    "ax[1].set_ylabel('silhouette score')\n",
    "ax[1].set_xticks(np.arange(min(K), max(K)+1, 1.0))\n",
    "ax[1].set_title('Silhouette Method showing the optimal k')"
   ]
  },
  {
   "cell_type": "markdown",
   "id": "93ca9237",
   "metadata": {},
   "source": [
    "## Silouhette"
   ]
  },
  {
   "cell_type": "code",
   "execution_count": null,
   "id": "b5c118e4",
   "metadata": {},
   "outputs": [],
   "source": [
    "def load(filename = \"filename.pickle\"): \n",
    "    try: \n",
    "        with open(filename, \"rb\") as file: \n",
    "            return pickle.load(file) \n",
    "    except FileNotFoundError: \n",
    "        print(\"File not found!\") "
   ]
  },
  {
   "cell_type": "markdown",
   "id": "26f24478",
   "metadata": {},
   "source": [
    "## Loading the scaler and the best model"
   ]
  },
  {
   "cell_type": "code",
   "execution_count": null,
   "id": "470ebb80",
   "metadata": {},
   "outputs": [],
   "source": [
    "scaler2 = load(\"/content/drive/MyDrive/scaler.pickle\")\n",
    "scaler2"
   ]
  },
  {
   "cell_type": "code",
   "execution_count": null,
   "id": "67f4fada",
   "metadata": {},
   "outputs": [],
   "source": [
    "best_model = load(\"/content/drive/MyDrive/kmeans_9.pickle\")"
   ]
  },
  {
   "cell_type": "code",
   "execution_count": null,
   "id": "17e383b5",
   "metadata": {},
   "outputs": [],
   "source": []
  }
 ],
 "metadata": {
  "kernelspec": {
   "display_name": "Python 3 (ipykernel)",
   "language": "python",
   "name": "python3"
  },
  "language_info": {
   "codemirror_mode": {
    "name": "ipython",
    "version": 3
   },
   "file_extension": ".py",
   "mimetype": "text/x-python",
   "name": "python",
   "nbconvert_exporter": "python",
   "pygments_lexer": "ipython3",
   "version": "3.9.12"
  },
  "toc": {
   "base_numbering": 1,
   "nav_menu": {},
   "number_sections": true,
   "sideBar": true,
   "skip_h1_title": false,
   "title_cell": "Table of Contents",
   "title_sidebar": "Contents",
   "toc_cell": false,
   "toc_position": {},
   "toc_section_display": true,
   "toc_window_display": false
  },
  "varInspector": {
   "cols": {
    "lenName": 16,
    "lenType": 16,
    "lenVar": 40
   },
   "kernels_config": {
    "python": {
     "delete_cmd_postfix": "",
     "delete_cmd_prefix": "del ",
     "library": "var_list.py",
     "varRefreshCmd": "print(var_dic_list())"
    },
    "r": {
     "delete_cmd_postfix": ") ",
     "delete_cmd_prefix": "rm(",
     "library": "var_list.r",
     "varRefreshCmd": "cat(var_dic_list()) "
    }
   },
   "types_to_exclude": [
    "module",
    "function",
    "builtin_function_or_method",
    "instance",
    "_Feature"
   ],
   "window_display": false
  }
 },
 "nbformat": 4,
 "nbformat_minor": 5
}
